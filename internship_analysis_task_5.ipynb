{
 "cells": [
  {
   "cell_type": "markdown",
   "metadata": {},
   "source": [
    "# Task 5: Reasons for Investment"
   ]
  },
  {
   "cell_type": "markdown",
   "metadata": {},
   "source": [
    "### Objective: Analyze and summarize reasons for investment choices.\n",
    "\n",
    "#### 1. Explore Reasons Column: Investigate the column where participants provided reasons for their investment choices.\n",
    "\n",
    "#### 2. Summarize Reasons: Identify common themes or recurring reasons and provide a summary."
   ]
  },
  {
   "cell_type": "code",
   "execution_count": null,
   "metadata": {},
   "outputs": [
    {
     "name": "stdout",
     "output_type": "stream",
     "text": [
      "Sample Reasons for Investment (Purpose Column):\n",
      "0       Wealth Creation\n",
      "1       Wealth Creation\n",
      "2       Wealth Creation\n",
      "3       Wealth Creation\n",
      "4       Wealth Creation\n",
      "5       Wealth Creation\n",
      "6       Wealth Creation\n",
      "7       Wealth Creation\n",
      "8    Savings for Future\n",
      "9       Wealth Creation\n",
      "Name: Purpose, dtype: object\n",
      "\n",
      "Number of missing values in the 'Purpose' column: 0\n",
      "\n",
      "Most Common Reasons for Investment:\n",
      "Purpose\n",
      "Wealth Creation       32\n",
      "Savings for Future     6\n",
      "Returns                2\n",
      "Name: count, dtype: int64\n",
      "\n",
      "Summary:\n",
      "The most common reasons for investment include:\n",
      "- Wealth Creation: 32 times\n",
      "- Savings for Future: 6 times\n",
      "- Returns: 2 times\n"
     ]
    }
   ],
   "source": [
    "import pandas as pd\n",
    "\n",
    "# Load dataset\n",
    "df = pd.read_csv(r'C:\\Users\\bhard\\Desktop\\DATA ANALYST OFFLINE\\Python\\internship\\dataset.csv')\n",
    "\n",
    "# Step 1: sample reasons from the 'Purpose' column\n",
    "print(\"Sample Reasons for Investment (Purpose Column):\")\n",
    "print(df['Purpose'].head(10))  # Display first 10 entries\n",
    "\n",
    "# Check for null or missing values\n",
    "missing_values_purpose = df['Purpose'].isnull().sum()\n",
    "print(f\"\\nNumber of missing values in the 'Purpose' column: {missing_values_purpose}\")\n",
    "\n",
    "# Step 2: Analyze and summarize reasons\n",
    "# Drop missing values\n",
    "reasons = df['Purpose'].dropna()\n",
    "\n",
    "# Count the frequency of unique reasons\n",
    "common_reasons = reasons.value_counts()\n",
    "print(\"\\nMost Common Reasons for Investment:\")\n",
    "print(common_reasons.head(10))  # Display the top 10 most frequent reasons\n",
    "\n",
    "# Provide a summary\n",
    "print(\"\\nSummary:\")\n",
    "print(\"The most common reasons for investment include:\")\n",
    "for reason, count in common_reasons.items():\n",
    "    print(f\"- {reason}: {count} times\")\n"
   ]
  },
  {
   "cell_type": "code",
   "execution_count": null,
   "metadata": {},
   "outputs": [],
   "source": []
  }
 ],
 "metadata": {
  "kernelspec": {
   "display_name": "Python 3",
   "language": "python",
   "name": "python3"
  },
  "language_info": {
   "codemirror_mode": {
    "name": "ipython",
    "version": 3
   },
   "file_extension": ".py",
   "mimetype": "text/x-python",
   "name": "python",
   "nbconvert_exporter": "python",
   "pygments_lexer": "ipython3",
   "version": "3.12.0"
  }
 },
 "nbformat": 4,
 "nbformat_minor": 2
}
