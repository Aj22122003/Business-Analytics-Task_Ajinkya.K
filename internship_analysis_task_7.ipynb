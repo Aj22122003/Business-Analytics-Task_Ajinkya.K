{
 "cells": [
  {
   "cell_type": "markdown",
   "metadata": {},
   "source": [
    "# Task 7: Common Information Sources"
   ]
  },
  {
   "cell_type": "markdown",
   "metadata": {},
   "source": [
    "### Objective: Analyze common sources participants rely on for investment information.\n",
    "\n",
    "#### 1. Explore Information Sources Column: Review the column where participants indicated their sources of investment information.\n",
    "\n",
    "#### 2. Identify Common Sources: Analyze the data to identify and summarize the most common sources participants rely on."
   ]
  },
  {
   "cell_type": "code",
   "execution_count": 1,
   "metadata": {},
   "outputs": [
    {
     "name": "stdout",
     "output_type": "stream",
     "text": [
      "Sample Information Sources:\n",
      "0    Newspapers and Magazines\n",
      "1       Financial Consultants\n",
      "2                  Television\n",
      "3                    Internet\n",
      "4                    Internet\n",
      "5                    Internet\n",
      "6       Financial Consultants\n",
      "7    Newspapers and Magazines\n",
      "8                  Television\n",
      "9    Newspapers and Magazines\n",
      "Name: Source, dtype: object\n",
      "\n",
      "Number of missing values in the 'Source' column: 0\n",
      "\n",
      "Most Common Information Sources:\n",
      "Source\n",
      "Financial Consultants       16\n",
      "Newspapers and Magazines    14\n",
      "Television                   6\n",
      "Internet                     4\n",
      "Name: count, dtype: int64\n",
      "\n",
      "Summary:\n",
      "The most common information sources for investment include:\n",
      "- Financial Consultants: 16 times\n",
      "- Newspapers and Magazines: 14 times\n",
      "- Television: 6 times\n",
      "- Internet: 4 times\n"
     ]
    }
   ],
   "source": [
    "import pandas as pd\n",
    "\n",
    "# Load dataset\n",
    "df = pd.read_csv(r'C:\\Users\\bhard\\Desktop\\DATA ANALYST OFFLINE\\Python\\internship\\dataset.csv')\n",
    "\n",
    "# Step 1: Explore the 'Source' column\n",
    "print(\"Sample Information Sources:\")\n",
    "print(df['Source'].head(10))  # Display the first 10 entries\n",
    "\n",
    "# Check for missing values\n",
    "missing_values = df['Source'].isnull().sum()\n",
    "print(f\"\\nNumber of missing values in the 'Source' column: {missing_values}\")\n",
    "\n",
    "# Step 2: Identify common sources\n",
    "# Drop missing values\n",
    "info_sources = df['Source'].dropna()\n",
    "\n",
    "# Count the frequency of unique information sources\n",
    "common_sources = info_sources.value_counts()\n",
    "\n",
    "# Display the most common sources\n",
    "print(\"\\nMost Common Information Sources:\")\n",
    "print(common_sources.head(10))  # Display the top 10 most frequent sources\n",
    "\n",
    "# Summary\n",
    "print(\"\\nSummary:\")\n",
    "print(\"The most common information sources for investment include:\")\n",
    "for source, count in common_sources.items():\n",
    "    print(f\"- {source}: {count} times\")\n"
   ]
  },
  {
   "cell_type": "code",
   "execution_count": null,
   "metadata": {},
   "outputs": [],
   "source": []
  }
 ],
 "metadata": {
  "kernelspec": {
   "display_name": "Python 3",
   "language": "python",
   "name": "python3"
  },
  "language_info": {
   "codemirror_mode": {
    "name": "ipython",
    "version": 3
   },
   "file_extension": ".py",
   "mimetype": "text/x-python",
   "name": "python",
   "nbconvert_exporter": "python",
   "pygments_lexer": "ipython3",
   "version": "3.12.0"
  }
 },
 "nbformat": 4,
 "nbformat_minor": 2
}
